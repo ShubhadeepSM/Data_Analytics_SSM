{
 "cells": [
  {
   "cell_type": "code",
   "execution_count": 1,
   "id": "ce770c3f",
   "metadata": {},
   "outputs": [],
   "source": [
    "import pandas as pd\n",
    "import requests\n",
    "from bs4 import BeautifulSoup"
   ]
  },
  {
   "cell_type": "code",
   "execution_count": 5,
   "id": "a038a0f2",
   "metadata": {},
   "outputs": [],
   "source": [
    "headers={'User-Agent':'Mozilla/5.0 (Windows NT 6.3; Win 64 ; x64) Apple WeKit /537.36(KHTML , like Gecko) Chrome/80.0.3987.162 Safari/537.36'}\n",
    "webpage_resp = requests.get('https://www.ambitionbox.com/list-of-companies?page=1',headers=headers).text"
   ]
  },
  {
   "cell_type": "code",
   "execution_count": 6,
   "id": "ccffdb63",
   "metadata": {},
   "outputs": [],
   "source": [
    "soup = BeautifulSoup(webpage_resp, 'lxml')"
   ]
  },
  {
   "cell_type": "code",
   "execution_count": 11,
   "id": "6cc9c1c9",
   "metadata": {},
   "outputs": [
    {
     "data": {
      "text/plain": [
       "'List of companies in India'"
      ]
     },
     "execution_count": 11,
     "metadata": {},
     "output_type": "execute_result"
    }
   ],
   "source": [
    "soup.find_all('h1')[0].text.strip()"
   ]
  },
  {
   "cell_type": "code",
   "execution_count": 13,
   "id": "f46925c7",
   "metadata": {},
   "outputs": [
    {
     "name": "stdout",
     "output_type": "stream",
     "text": [
      "TCS\n",
      "Accenture\n",
      "Cognizant\n",
      "Wipro\n",
      "HDFC Bank\n",
      "ICICI Bank\n",
      "Infosys\n",
      "Capgemini\n",
      "HCLTech\n",
      "Tech Mahindra\n",
      "Genpact\n",
      "Axis Bank\n",
      "Concentrix Corporation\n",
      "Amazon\n",
      "Teleperformance\n",
      "Reliance Jio\n",
      "IBM\n",
      "Larsen & Toubro Limited\n",
      "Reliance Retail\n",
      "HDB Financial Services\n",
      "Companies by  Industry\n",
      "Companies by  Locations\n",
      "Companies by  Type\n",
      "Companies by  Badges\n"
     ]
    }
   ],
   "source": [
    "for i in soup.find_all('h2'):\n",
    "    print(i.text.strip())"
   ]
  },
  {
   "cell_type": "code",
   "execution_count": 14,
   "id": "da83d408",
   "metadata": {},
   "outputs": [
    {
     "data": {
      "text/plain": [
       "24"
      ]
     },
     "execution_count": 14,
     "metadata": {},
     "output_type": "execute_result"
    }
   ],
   "source": [
    "len(soup.find_all('h2'))"
   ]
  },
  {
   "cell_type": "code",
   "execution_count": 19,
   "id": "557996af",
   "metadata": {},
   "outputs": [
    {
     "data": {
      "text/plain": [
       "20"
      ]
     },
     "execution_count": 19,
     "metadata": {},
     "output_type": "execute_result"
    }
   ],
   "source": [
    "len(soup.find_all('div', class_= 'companyCardWrapper__companyRatingWrapper'))"
   ]
  },
  {
   "cell_type": "code",
   "execution_count": 20,
   "id": "901fea7a",
   "metadata": {},
   "outputs": [],
   "source": [
    "company = soup.find_all('div', class_='companyCardWrapper')"
   ]
  },
  {
   "cell_type": "code",
   "execution_count": 21,
   "id": "2aa11f59",
   "metadata": {},
   "outputs": [
    {
     "data": {
      "text/plain": [
       "20"
      ]
     },
     "execution_count": 21,
     "metadata": {},
     "output_type": "execute_result"
    }
   ],
   "source": [
    "len(company)"
   ]
  },
  {
   "cell_type": "code",
   "execution_count": 58,
   "id": "cf949369",
   "metadata": {},
   "outputs": [],
   "source": [
    "name = []\n",
    "rating = []\n",
    "reviews = []\n",
    "company_desc = []\n",
    "\n",
    "for i in company:\n",
    "    name.append((i.find('h2').text.strip()))\n",
    "    rating.append(i.find('div', class_= 'companyCardWrapper__companyRatingWrapper').text.strip())\n",
    "    reviews.append(i.find('span', class_= 'companyCardWrapper__ActionCount').text.strip())\n",
    "    company_desc.append(i.find('div', class_= 'companyCardWrapper__interLinkingWrapper').text.strip())\n",
    "    \n",
    "df = {'Name':name, 'Rating':rating, 'No. of Reviews':reviews, 'Description':company_desc}\n",
    "final_df = pd.DataFrame(df)"
   ]
  },
  {
   "cell_type": "code",
   "execution_count": 59,
   "id": "3d98f192",
   "metadata": {},
   "outputs": [
    {
     "data": {
      "text/html": [
       "<div>\n",
       "<style scoped>\n",
       "    .dataframe tbody tr th:only-of-type {\n",
       "        vertical-align: middle;\n",
       "    }\n",
       "\n",
       "    .dataframe tbody tr th {\n",
       "        vertical-align: top;\n",
       "    }\n",
       "\n",
       "    .dataframe thead th {\n",
       "        text-align: right;\n",
       "    }\n",
       "</style>\n",
       "<table border=\"1\" class=\"dataframe\">\n",
       "  <thead>\n",
       "    <tr style=\"text-align: right;\">\n",
       "      <th></th>\n",
       "      <th>Name</th>\n",
       "      <th>Rating</th>\n",
       "      <th>No. of Reviews</th>\n",
       "      <th>Description</th>\n",
       "    </tr>\n",
       "  </thead>\n",
       "  <tbody>\n",
       "    <tr>\n",
       "      <th>0</th>\n",
       "      <td>TCS</td>\n",
       "      <td>3.8</td>\n",
       "      <td>69.6k</td>\n",
       "      <td>IT Services &amp; Consulting | 1 Lakh+ Employees |...</td>\n",
       "    </tr>\n",
       "    <tr>\n",
       "      <th>1</th>\n",
       "      <td>Accenture</td>\n",
       "      <td>4.0</td>\n",
       "      <td>44.1k</td>\n",
       "      <td>IT Services &amp; Consulting | 1 Lakh+ Employees |...</td>\n",
       "    </tr>\n",
       "    <tr>\n",
       "      <th>2</th>\n",
       "      <td>Cognizant</td>\n",
       "      <td>3.9</td>\n",
       "      <td>39.7k</td>\n",
       "      <td>IT Services &amp; Consulting | 1 Lakh+ Employees |...</td>\n",
       "    </tr>\n",
       "    <tr>\n",
       "      <th>3</th>\n",
       "      <td>Wipro</td>\n",
       "      <td>3.8</td>\n",
       "      <td>37.1k</td>\n",
       "      <td>IT Services &amp; Consulting | 1 Lakh+ Employees |...</td>\n",
       "    </tr>\n",
       "    <tr>\n",
       "      <th>4</th>\n",
       "      <td>HDFC Bank</td>\n",
       "      <td>3.9</td>\n",
       "      <td>31.9k</td>\n",
       "      <td>Banking | 1 Lakh+ Employees | Public | 29 year...</td>\n",
       "    </tr>\n",
       "    <tr>\n",
       "      <th>5</th>\n",
       "      <td>ICICI Bank</td>\n",
       "      <td>4.0</td>\n",
       "      <td>31.8k</td>\n",
       "      <td>Banking | 1 Lakh+ Employees | Public | 29 year...</td>\n",
       "    </tr>\n",
       "    <tr>\n",
       "      <th>6</th>\n",
       "      <td>Infosys</td>\n",
       "      <td>3.9</td>\n",
       "      <td>30.1k</td>\n",
       "      <td>IT Services &amp; Consulting | 1 Lakh+ Employees |...</td>\n",
       "    </tr>\n",
       "    <tr>\n",
       "      <th>7</th>\n",
       "      <td>Capgemini</td>\n",
       "      <td>3.8</td>\n",
       "      <td>28k</td>\n",
       "      <td>IT Services &amp; Consulting | 1 Lakh+ Employees |...</td>\n",
       "    </tr>\n",
       "    <tr>\n",
       "      <th>8</th>\n",
       "      <td>HCLTech</td>\n",
       "      <td>3.7</td>\n",
       "      <td>26.8k</td>\n",
       "      <td>IT Services &amp; Consulting | 1 Lakh+ Employees |...</td>\n",
       "    </tr>\n",
       "    <tr>\n",
       "      <th>9</th>\n",
       "      <td>Tech Mahindra</td>\n",
       "      <td>3.7</td>\n",
       "      <td>26.2k</td>\n",
       "      <td>IT Services &amp; Consulting | 1 Lakh+ Employees |...</td>\n",
       "    </tr>\n",
       "    <tr>\n",
       "      <th>10</th>\n",
       "      <td>Genpact</td>\n",
       "      <td>3.9</td>\n",
       "      <td>25k</td>\n",
       "      <td>IT Services &amp; Consulting | 1 Lakh+ Employees |...</td>\n",
       "    </tr>\n",
       "    <tr>\n",
       "      <th>11</th>\n",
       "      <td>Axis Bank</td>\n",
       "      <td>3.8</td>\n",
       "      <td>20.9k</td>\n",
       "      <td>Banking | 50k-1 Lakh Employees | Public | 30 y...</td>\n",
       "    </tr>\n",
       "    <tr>\n",
       "      <th>12</th>\n",
       "      <td>Concentrix Corporation</td>\n",
       "      <td>3.9</td>\n",
       "      <td>20.7k</td>\n",
       "      <td>BPO | 50k-1 Lakh Employees | Public | 40 years...</td>\n",
       "    </tr>\n",
       "    <tr>\n",
       "      <th>13</th>\n",
       "      <td>Amazon</td>\n",
       "      <td>4.1</td>\n",
       "      <td>19.9k</td>\n",
       "      <td>Internet | 1 Lakh+ Employees | Public | 29 yea...</td>\n",
       "    </tr>\n",
       "    <tr>\n",
       "      <th>14</th>\n",
       "      <td>Teleperformance</td>\n",
       "      <td>3.5</td>\n",
       "      <td>19.6k</td>\n",
       "      <td>BPO | 50k-1 Lakh Employees | Forbes Global 200...</td>\n",
       "    </tr>\n",
       "    <tr>\n",
       "      <th>15</th>\n",
       "      <td>Reliance Jio</td>\n",
       "      <td>3.9</td>\n",
       "      <td>19k</td>\n",
       "      <td>Telecom | 50k-1 Lakh Employees | Public | 16 y...</td>\n",
       "    </tr>\n",
       "    <tr>\n",
       "      <th>16</th>\n",
       "      <td>IBM</td>\n",
       "      <td>4.1</td>\n",
       "      <td>18.9k</td>\n",
       "      <td>Software Product | 1 Lakh+ Employees | Public ...</td>\n",
       "    </tr>\n",
       "    <tr>\n",
       "      <th>17</th>\n",
       "      <td>Larsen &amp; Toubro Limited</td>\n",
       "      <td>4.0</td>\n",
       "      <td>17.8k</td>\n",
       "      <td>Engineering &amp; Construction | 10k-50k Employees...</td>\n",
       "    </tr>\n",
       "    <tr>\n",
       "      <th>18</th>\n",
       "      <td>Reliance Retail</td>\n",
       "      <td>3.9</td>\n",
       "      <td>17.4k</td>\n",
       "      <td>Retail | 1 Lakh+ Employees | 17 years old | Na...</td>\n",
       "    </tr>\n",
       "    <tr>\n",
       "      <th>19</th>\n",
       "      <td>HDB Financial Services</td>\n",
       "      <td>4.0</td>\n",
       "      <td>17k</td>\n",
       "      <td>NBFC | 1 Lakh+ Employees | 16 years old | Ahme...</td>\n",
       "    </tr>\n",
       "  </tbody>\n",
       "</table>\n",
       "</div>"
      ],
      "text/plain": [
       "                       Name Rating No. of Reviews  \\\n",
       "0                       TCS    3.8          69.6k   \n",
       "1                 Accenture    4.0          44.1k   \n",
       "2                 Cognizant    3.9          39.7k   \n",
       "3                     Wipro    3.8          37.1k   \n",
       "4                 HDFC Bank    3.9          31.9k   \n",
       "5                ICICI Bank    4.0          31.8k   \n",
       "6                   Infosys    3.9          30.1k   \n",
       "7                 Capgemini    3.8            28k   \n",
       "8                   HCLTech    3.7          26.8k   \n",
       "9             Tech Mahindra    3.7          26.2k   \n",
       "10                  Genpact    3.9            25k   \n",
       "11                Axis Bank    3.8          20.9k   \n",
       "12   Concentrix Corporation    3.9          20.7k   \n",
       "13                   Amazon    4.1          19.9k   \n",
       "14          Teleperformance    3.5          19.6k   \n",
       "15             Reliance Jio    3.9            19k   \n",
       "16                      IBM    4.1          18.9k   \n",
       "17  Larsen & Toubro Limited    4.0          17.8k   \n",
       "18          Reliance Retail    3.9          17.4k   \n",
       "19   HDB Financial Services    4.0            17k   \n",
       "\n",
       "                                          Description  \n",
       "0   IT Services & Consulting | 1 Lakh+ Employees |...  \n",
       "1   IT Services & Consulting | 1 Lakh+ Employees |...  \n",
       "2   IT Services & Consulting | 1 Lakh+ Employees |...  \n",
       "3   IT Services & Consulting | 1 Lakh+ Employees |...  \n",
       "4   Banking | 1 Lakh+ Employees | Public | 29 year...  \n",
       "5   Banking | 1 Lakh+ Employees | Public | 29 year...  \n",
       "6   IT Services & Consulting | 1 Lakh+ Employees |...  \n",
       "7   IT Services & Consulting | 1 Lakh+ Employees |...  \n",
       "8   IT Services & Consulting | 1 Lakh+ Employees |...  \n",
       "9   IT Services & Consulting | 1 Lakh+ Employees |...  \n",
       "10  IT Services & Consulting | 1 Lakh+ Employees |...  \n",
       "11  Banking | 50k-1 Lakh Employees | Public | 30 y...  \n",
       "12  BPO | 50k-1 Lakh Employees | Public | 40 years...  \n",
       "13  Internet | 1 Lakh+ Employees | Public | 29 yea...  \n",
       "14  BPO | 50k-1 Lakh Employees | Forbes Global 200...  \n",
       "15  Telecom | 50k-1 Lakh Employees | Public | 16 y...  \n",
       "16  Software Product | 1 Lakh+ Employees | Public ...  \n",
       "17  Engineering & Construction | 10k-50k Employees...  \n",
       "18  Retail | 1 Lakh+ Employees | 17 years old | Na...  \n",
       "19  NBFC | 1 Lakh+ Employees | 16 years old | Ahme...  "
      ]
     },
     "execution_count": 59,
     "metadata": {},
     "output_type": "execute_result"
    }
   ],
   "source": [
    "final_df"
   ]
  },
  {
   "cell_type": "code",
   "execution_count": 43,
   "id": "019a0c14",
   "metadata": {},
   "outputs": [
    {
     "data": {
      "text/plain": [
       "['3.8',\n",
       " '4.0',\n",
       " '3.9',\n",
       " '3.8',\n",
       " '3.9',\n",
       " '4.0',\n",
       " '3.9',\n",
       " '3.8',\n",
       " '3.7',\n",
       " '3.7',\n",
       " '3.9',\n",
       " '3.8',\n",
       " '3.9',\n",
       " '4.1',\n",
       " '3.5',\n",
       " '3.9',\n",
       " '4.1',\n",
       " '4.0',\n",
       " '3.9',\n",
       " '4.0']"
      ]
     },
     "execution_count": 43,
     "metadata": {},
     "output_type": "execute_result"
    }
   ],
   "source": [
    "rating"
   ]
  },
  {
   "cell_type": "code",
   "execution_count": 47,
   "id": "83d338b4",
   "metadata": {},
   "outputs": [
    {
     "data": {
      "text/plain": [
       "['69.6k',\n",
       " '44.1k',\n",
       " '39.7k',\n",
       " '37.1k',\n",
       " '31.9k',\n",
       " '31.8k',\n",
       " '30.1k',\n",
       " '28k',\n",
       " '26.8k',\n",
       " '26.2k',\n",
       " '25k',\n",
       " '20.9k',\n",
       " '20.7k',\n",
       " '19.9k',\n",
       " '19.6k',\n",
       " '19k',\n",
       " '18.9k',\n",
       " '17.8k',\n",
       " '17.4k',\n",
       " '17k']"
      ]
     },
     "execution_count": 47,
     "metadata": {},
     "output_type": "execute_result"
    }
   ],
   "source": [
    "reviews"
   ]
  },
  {
   "cell_type": "code",
   "execution_count": 60,
   "id": "2c484eb4",
   "metadata": {},
   "outputs": [
    {
     "data": {
      "text/plain": [
       "(20, 4)"
      ]
     },
     "execution_count": 60,
     "metadata": {},
     "output_type": "execute_result"
    }
   ],
   "source": [
    "final_df.shape"
   ]
  },
  {
   "cell_type": "code",
   "execution_count": 68,
   "id": "454ae099",
   "metadata": {},
   "outputs": [],
   "source": [
    "total_final_df = pd.DataFrame()\n",
    "\n",
    "for j in range(1,200):\n",
    "    url = 'https://www.ambitionbox.com/list-of-companies?page={}'.format(j)\n",
    "    \n",
    "    headers={'User-Agent':'Mozilla/5.0 (Windows NT 6.3; Win 64 ; x64) Apple WeKit /537.36(KHTML , like Gecko) Chrome/80.0.3987.162 Safari/537.36'}\n",
    "    webpage_resp = requests.get(url, headers=headers).text\n",
    "    soup = BeautifulSoup(webpage_resp, 'lxml')\n",
    "    company = soup.find_all('div', class_='companyCardWrapper')\n",
    "    name = []\n",
    "    rating = []\n",
    "    reviews = []\n",
    "    company_desc = []\n",
    "\n",
    "    for i in company:\n",
    "        name.append((i.find('h2').text.strip()))\n",
    "        rating.append(i.find('div', class_= 'companyCardWrapper__companyRatingWrapper').text.strip())\n",
    "        reviews.append(i.find('span', class_= 'companyCardWrapper__ActionCount').text.strip())\n",
    "        company_desc.append(i.find('div', class_= 'companyCardWrapper__interLinkingWrapper').text.strip())\n",
    "    \n",
    "    df = {'Name':name, 'Rating':rating, 'No. of Reviews':reviews, 'Description':company_desc}\n",
    "    final_df = pd.DataFrame(df)\n",
    "\n",
    "    total_final_df = pd.concat([total_final_df, final_df], ignore_index = True)"
   ]
  },
  {
   "cell_type": "code",
   "execution_count": 70,
   "id": "de7fa1da",
   "metadata": {},
   "outputs": [
    {
     "data": {
      "text/html": [
       "<div>\n",
       "<style scoped>\n",
       "    .dataframe tbody tr th:only-of-type {\n",
       "        vertical-align: middle;\n",
       "    }\n",
       "\n",
       "    .dataframe tbody tr th {\n",
       "        vertical-align: top;\n",
       "    }\n",
       "\n",
       "    .dataframe thead th {\n",
       "        text-align: right;\n",
       "    }\n",
       "</style>\n",
       "<table border=\"1\" class=\"dataframe\">\n",
       "  <thead>\n",
       "    <tr style=\"text-align: right;\">\n",
       "      <th></th>\n",
       "      <th>Name</th>\n",
       "      <th>Rating</th>\n",
       "      <th>No. of Reviews</th>\n",
       "      <th>Description</th>\n",
       "    </tr>\n",
       "  </thead>\n",
       "  <tbody>\n",
       "    <tr>\n",
       "      <th>0</th>\n",
       "      <td>TCS</td>\n",
       "      <td>3.8</td>\n",
       "      <td>69.6k</td>\n",
       "      <td>IT Services &amp; Consulting | 1 Lakh+ Employees |...</td>\n",
       "    </tr>\n",
       "    <tr>\n",
       "      <th>1</th>\n",
       "      <td>Accenture</td>\n",
       "      <td>4.0</td>\n",
       "      <td>44.1k</td>\n",
       "      <td>IT Services &amp; Consulting | 1 Lakh+ Employees |...</td>\n",
       "    </tr>\n",
       "    <tr>\n",
       "      <th>2</th>\n",
       "      <td>Cognizant</td>\n",
       "      <td>3.9</td>\n",
       "      <td>39.7k</td>\n",
       "      <td>IT Services &amp; Consulting | 1 Lakh+ Employees |...</td>\n",
       "    </tr>\n",
       "    <tr>\n",
       "      <th>3</th>\n",
       "      <td>Wipro</td>\n",
       "      <td>3.8</td>\n",
       "      <td>37.1k</td>\n",
       "      <td>IT Services &amp; Consulting | 1 Lakh+ Employees |...</td>\n",
       "    </tr>\n",
       "    <tr>\n",
       "      <th>4</th>\n",
       "      <td>HDFC Bank</td>\n",
       "      <td>3.9</td>\n",
       "      <td>31.9k</td>\n",
       "      <td>Banking | 1 Lakh+ Employees | Public | 29 year...</td>\n",
       "    </tr>\n",
       "    <tr>\n",
       "      <th>...</th>\n",
       "      <td>...</td>\n",
       "      <td>...</td>\n",
       "      <td>...</td>\n",
       "      <td>...</td>\n",
       "    </tr>\n",
       "    <tr>\n",
       "      <th>3975</th>\n",
       "      <td>Chennai Petroleum Corporation</td>\n",
       "      <td>4.5</td>\n",
       "      <td>178</td>\n",
       "      <td>Oil &amp; Gas | 1k-5k Employees | Public | 58 year...</td>\n",
       "    </tr>\n",
       "    <tr>\n",
       "      <th>3976</th>\n",
       "      <td>Fidelis Technology Services</td>\n",
       "      <td>3.7</td>\n",
       "      <td>178</td>\n",
       "      <td>IT Services &amp; Consulting | 1k-5k Employees | 1...</td>\n",
       "    </tr>\n",
       "    <tr>\n",
       "      <th>3977</th>\n",
       "      <td>Vacmet India</td>\n",
       "      <td>4.1</td>\n",
       "      <td>178</td>\n",
       "      <td>Packaging | 501-1k Employees | Public | 30 yea...</td>\n",
       "    </tr>\n",
       "    <tr>\n",
       "      <th>3978</th>\n",
       "      <td>Malabar Group Of Companies</td>\n",
       "      <td>3.9</td>\n",
       "      <td>178</td>\n",
       "      <td>Jewellery | 1k-5k Employees | 30 years old | C...</td>\n",
       "    </tr>\n",
       "    <tr>\n",
       "      <th>3979</th>\n",
       "      <td>KiwiTech</td>\n",
       "      <td>3.5</td>\n",
       "      <td>178</td>\n",
       "      <td>IT Services &amp; Consulting | 501-1k Employees | ...</td>\n",
       "    </tr>\n",
       "  </tbody>\n",
       "</table>\n",
       "<p>3980 rows × 4 columns</p>\n",
       "</div>"
      ],
      "text/plain": [
       "                               Name Rating No. of Reviews  \\\n",
       "0                               TCS    3.8          69.6k   \n",
       "1                         Accenture    4.0          44.1k   \n",
       "2                         Cognizant    3.9          39.7k   \n",
       "3                             Wipro    3.8          37.1k   \n",
       "4                         HDFC Bank    3.9          31.9k   \n",
       "...                             ...    ...            ...   \n",
       "3975  Chennai Petroleum Corporation    4.5            178   \n",
       "3976    Fidelis Technology Services    3.7            178   \n",
       "3977                   Vacmet India    4.1            178   \n",
       "3978     Malabar Group Of Companies    3.9            178   \n",
       "3979                       KiwiTech    3.5            178   \n",
       "\n",
       "                                            Description  \n",
       "0     IT Services & Consulting | 1 Lakh+ Employees |...  \n",
       "1     IT Services & Consulting | 1 Lakh+ Employees |...  \n",
       "2     IT Services & Consulting | 1 Lakh+ Employees |...  \n",
       "3     IT Services & Consulting | 1 Lakh+ Employees |...  \n",
       "4     Banking | 1 Lakh+ Employees | Public | 29 year...  \n",
       "...                                                 ...  \n",
       "3975  Oil & Gas | 1k-5k Employees | Public | 58 year...  \n",
       "3976  IT Services & Consulting | 1k-5k Employees | 1...  \n",
       "3977  Packaging | 501-1k Employees | Public | 30 yea...  \n",
       "3978  Jewellery | 1k-5k Employees | 30 years old | C...  \n",
       "3979  IT Services & Consulting | 501-1k Employees | ...  \n",
       "\n",
       "[3980 rows x 4 columns]"
      ]
     },
     "execution_count": 70,
     "metadata": {},
     "output_type": "execute_result"
    }
   ],
   "source": [
    "total_final_df"
   ]
  },
  {
   "cell_type": "code",
   "execution_count": null,
   "id": "f103af67",
   "metadata": {},
   "outputs": [],
   "source": []
  }
 ],
 "metadata": {
  "kernelspec": {
   "display_name": "Python 3 (ipykernel)",
   "language": "python",
   "name": "python3"
  },
  "language_info": {
   "codemirror_mode": {
    "name": "ipython",
    "version": 3
   },
   "file_extension": ".py",
   "mimetype": "text/x-python",
   "name": "python",
   "nbconvert_exporter": "python",
   "pygments_lexer": "ipython3",
   "version": "3.11.5"
  }
 },
 "nbformat": 4,
 "nbformat_minor": 5
}
